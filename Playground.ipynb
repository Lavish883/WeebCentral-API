{
 "cells": [
  {
   "cell_type": "code",
   "execution_count": null,
   "metadata": {},
   "outputs": [],
   "source": [
    "import requests\n",
    "\n",
    "# Define the base URL\n",
    "url = \"https://weebcentral.com/search/data\"\n",
    "\n",
    "# Define the query parameters\n",
    "params = {\n",
    "    \"limit\": 32,\n",
    "    \"offset\": 8600,\n",
    "    \"order\": \"Ascending\",\n",
    "    \"display_mode\": \"Minimal Display\"\n",
    "}\n",
    "\n",
    "\n",
    "# Send the GET request with query parameters\n",
    "response = requests.get(url, params=params)\n",
    "\n",
    "# Print the response\n",
    "print(\"URL:\", response.url)  # To verify the constructed URL\n",
    "print(\"Status Code:\", response.status_code)\n",
    "print(\"Response Text:\", len(response.text))"
   ]
  },
  {
   "cell_type": "code",
   "execution_count": null,
   "metadata": {},
   "outputs": [],
   "source": [
    "print(response.text)"
   ]
  },
  {
   "cell_type": "code",
   "execution_count": null,
   "metadata": {},
   "outputs": [],
   "source": [
    "from urllib.parse import urlparse\n",
    "from bs4 import BeautifulSoup\n",
    "\n",
    "\n",
    "def extract_series_data(url):\n",
    "    \"\"\"\n",
    "    Extract series ID and name from the given URL and store them in a dictionary.\n",
    "    \n",
    "    Args:\n",
    "        url (str): The URL to extract data from.\n",
    "        \n",
    "    Returns:\n",
    "        dict: A dictionary with the series name as the key and the series ID as the value.\n",
    "    \"\"\"\n",
    "    path = urlparse(url).path\n",
    "    parts = path.split('/')\n",
    "    if len(parts) >= 3 and parts[1] == \"series\":\n",
    "        series_id = parts[2]\n",
    "        series_name = parts[3]\n",
    "        return {\"Name\" : series_name, \"ID\": series_id}\n",
    "\n",
    "html_content = response.text\n",
    "\n",
    "soup = BeautifulSoup(html_content, \"html.parser\")\n",
    "\n",
    "a_tags = soup.find_all('a')\n",
    "for tag in a_tags:\n",
    "    print(extract_series_data(tag[\"href\"]))"
   ]
  },
  {
   "cell_type": "code",
   "execution_count": 1,
   "metadata": {},
   "outputs": [],
   "source": [
    "from API import NamesIDGraper\n",
    "\n",
    "Object = NamesIDGraper()\n",
    "\n",
    "Object.GrapAllShowsOnline()"
   ]
  },
  {
   "cell_type": "code",
   "execution_count": 2,
   "metadata": {},
   "outputs": [],
   "source": [
    "import json\n",
    "with open(\"JsonFiles/MangaNamesToID.json\", \"w\") as json_file:\n",
    "    json.dump(Object.MangaData, json_file, indent=4)"
   ]
  },
  {
   "cell_type": "code",
   "execution_count": null,
   "metadata": {},
   "outputs": [],
   "source": [
    "import requests\n",
    "\n",
    "# Define the base URL\n",
    "url = \"https://weebcentral.com/search/simple\"\n",
    "\n",
    "# Define the query parameters\n",
    "params = {\n",
    "    \"location\":\"main\"\n",
    "}\n",
    "\n",
    "data = {\n",
    "    \"text\" : \"dr.\"\n",
    "}\n",
    "\n",
    "\n",
    "# Send the GET request with query parameters\n",
    "response = requests.post(url, params=params, data=data)\n",
    "\n",
    "# Print the response\n",
    "print(\"URL:\", response.url)  # To verify the constructed URL\n",
    "print(\"Status Code:\", response.status_code)\n",
    "print(\"Response Text:\", len(response.text))"
   ]
  },
  {
   "cell_type": "code",
   "execution_count": null,
   "metadata": {},
   "outputs": [],
   "source": [
    "print(response.text)"
   ]
  },
  {
   "cell_type": "code",
   "execution_count": null,
   "metadata": {},
   "outputs": [],
   "source": [
    "from API import NamesIDGraper\n",
    "\n",
    "Object = NamesIDGraper()\n",
    "\n",
    "Object.SearchMangasOnline(\"The Gamer\")"
   ]
  },
  {
   "cell_type": "code",
   "execution_count": null,
   "metadata": {},
   "outputs": [],
   "source": [
    "import requests\n",
    "_url = \"https://weebcentral.com/series/\"\n",
    "_series = \"01J76XY9DYH4MH2HZG2PPF74A6\"\n",
    "filler = \"/chapter-select?current_chapter=none&current_page=None\"\n",
    "\n",
    "response = requests.get(_url+_series+filler)\n",
    "response.status_code"
   ]
  },
  {
   "cell_type": "code",
   "execution_count": null,
   "metadata": {},
   "outputs": [],
   "source": [
    "response.text"
   ]
  },
  {
   "cell_type": "code",
   "execution_count": null,
   "metadata": {},
   "outputs": [],
   "source": [
    "from bs4 import BeautifulSoup\n",
    "soup = BeautifulSoup(response.text, \"html.parser\")\n",
    "\n",
    "SeasonDict = {\n",
    "\n",
    "}\n",
    "\n",
    "a_tags = soup.find_all('a')\n",
    "for tag in a_tags[::-1]:\n",
    "    Header, Link = tag.text, tag[\"href\"]\n",
    "    Data = Header.split(\" \")\n",
    "    Chapter = Data[-1]\n",
    "    SeasonID = Data[0]\n",
    "    try:\n",
    "        Season = SeasonDict[SeasonID]\n",
    "    except:\n",
    "        SeasonDict[SeasonID] = len(SeasonDict) + 1\n",
    "        Season = SeasonDict[SeasonID]\n",
    "\n",
    "    print(Season, Chapter)\n",
    "\n"
   ]
  },
  {
   "cell_type": "code",
   "execution_count": null,
   "metadata": {},
   "outputs": [],
   "source": [
    "class KeyBinds:\n",
    "    def __init__(self):\n",
    "        AttackKey = \"K\"\n",
    "\n",
    "\n",
    "class PlayerMoveMent:\n",
    "    def __init__(self):\n",
    "        _KeyBinds = KeyBinds()\n",
    "\n",
    "Player_1Keybinds = KeyBinds()\n",
    "\n",
    "def attack():\n",
    "    \n",
    "    Player_1Keybinds.AttackKey\n",
    "    pass"
   ]
  },
  {
   "cell_type": "code",
   "execution_count": null,
   "metadata": {},
   "outputs": [],
   "source": [
    "from API import SeriesDataGraper\n",
    "from Structure import Series\n",
    "\n",
    "_series = Series()\n",
    "_series.DomainID = \"01J76XY9DYH4MH2HZG2PPF74A6\"\n",
    "\n",
    "\n",
    "Object = SeriesDataGraper(_series)\n",
    "for Chapter in Object.Chapters:\n",
    "    print(Chapter.ChapterID)\n"
   ]
  },
  {
   "cell_type": "code",
   "execution_count": null,
   "metadata": {},
   "outputs": [],
   "source": [
    "from API import NamesIDGraper\n",
    "_object = NamesIDGraper()\n",
    "\n",
    "results = _object.GrapAllSeriesOnline()\n",
    "\n",
    "len(_object.SeriesData)"
   ]
  },
  {
   "cell_type": "code",
   "execution_count": null,
   "metadata": {},
   "outputs": [],
   "source": [
    "for reslut in _object.SeriesData:\n",
    "    print(reslut.DomainName)"
   ]
  },
  {
   "cell_type": "code",
   "execution_count": null,
   "metadata": {},
   "outputs": [],
   "source": [
    "import requests\n",
    "url = \"https://weebcentral.com/sitemap.xml\"\n",
    "\n",
    "response = requests.get(url)\n",
    "response.status_code"
   ]
  },
  {
   "cell_type": "code",
   "execution_count": null,
   "metadata": {},
   "outputs": [],
   "source": [
    "import re\n",
    "\n",
    "\n",
    "url_pattern = r'<loc>(https?://\\S+)</loc>'\n",
    "\n",
    "# Find all URLs in the text\n",
    "urls = re.findall(url_pattern, response.text)\n",
    "\n",
    "# Print the list of URLs\n",
    "urls\n"
   ]
  },
  {
   "cell_type": "code",
   "execution_count": null,
   "metadata": {},
   "outputs": [],
   "source": [
    "import requests\n",
    "url = \"https://weebcentral.com/series/01J76XYD1PPEBM28FKRA73XZT1\"\n",
    "\n",
    "response = requests.get(url)\n",
    "response.status_code"
   ]
  },
  {
   "cell_type": "code",
   "execution_count": 36,
   "metadata": {},
   "outputs": [],
   "source": [
    "from bs4 import BeautifulSoup\n",
    "\n",
    "\n",
    "soup = BeautifulSoup(response.text, \"html.parser\")\n",
    "\n"
   ]
  },
  {
   "cell_type": "code",
   "execution_count": null,
   "metadata": {},
   "outputs": [],
   "source": [
    "NameHtml = soup.find_all('h1')\n",
    "NameHtml[1].text # this will grap name\n",
    "\n",
    "DescriptionHtml = soup.find_all('p')\n",
    "DescriptionHtml[0].text # this graps the discription\n",
    "\n",
    "AltNames = soup.find_all('li')\n",
    "filtered_li = [\n",
    "    li for li in AltNames\n",
    "    if li.find('strong') and li.find('strong').text.strip() == \"Associated Name(s)\"\n",
    "]\n",
    "for li in filtered_li:\n",
    "    nested_items = li.find('ul').find_all('li')  # Get nested <li> elements\n",
    "    for item in nested_items:\n",
    "        print(item.text.strip())  # Print the text content\n"
   ]
  },
  {
   "cell_type": "code",
   "execution_count": 3,
   "metadata": {},
   "outputs": [],
   "source": [
    "from API import SeriesDataGraper\n",
    "from Structure import Series\n",
    "\n",
    "_series = Series()\n",
    "_series.DomainID = \"01J76XY9DYH4MH2HZG2PPF74A6\"\n",
    "\n",
    "Object = SeriesDataGraper(_series)"
   ]
  },
  {
   "cell_type": "code",
   "execution_count": 5,
   "metadata": {},
   "outputs": [],
   "source": [
    "Object.GrapSeriesCover()\n",
    "_image = Object.Series.__dict__[\"CoverImage\"]\n"
   ]
  },
  {
   "cell_type": "code",
   "execution_count": 6,
   "metadata": {},
   "outputs": [],
   "source": [
    "with open(f\"Cover.jpg\", \"wb\") as f:\n",
    "    f.write(_image)"
   ]
  },
  {
   "cell_type": "code",
   "execution_count": null,
   "metadata": {},
   "outputs": [],
   "source": [
    "from API import SeriesDataGraper, ChaptersDataGraper\n",
    "from Structure import Series\n",
    "\n",
    "_series = Series()\n",
    "_series.DomainID = \"01J76XY9DYH4MH2HZG2PPF74A6\"\n",
    "\n",
    "Object = SeriesDataGraper(_series)\n",
    "\n",
    "Object.GrapChaptersInfo()\n",
    "\n",
    "url = Object.Series.Chapters[0].Link\n",
    "\n",
    "url\n",
    "\n"
   ]
  },
  {
   "cell_type": "code",
   "execution_count": null,
   "metadata": {},
   "outputs": [],
   "source": [
    "Object_2 = ChaptersDataGraper(chapter=Object.Series.Chapters[0])\n",
    "Object_2.GrapChapterInfromation()\n",
    "\n",
    "\n",
    "Object_2.Chapter.__dict__"
   ]
  },
  {
   "cell_type": "code",
   "execution_count": null,
   "metadata": {},
   "outputs": [],
   "source": [
    "import requests\n",
    "\n",
    "response = requests.get(url)\n",
    "response.status_code"
   ]
  },
  {
   "cell_type": "code",
   "execution_count": null,
   "metadata": {},
   "outputs": [],
   "source": [
    "from bs4 import BeautifulSoup\n",
    "import re\n",
    "\n",
    "print(url)\n",
    "\n",
    "soup = BeautifulSoup(response.text, \"html.parser\")\n",
    "\n",
    "_link = target_link = soup.find('link', {'as': 'image', 'rel': 'preload'})[\"href\"] # fine Pages Domain\n",
    "\n",
    "\n",
    "match = re.search(r\"max_page: parseInt\\('(\\d+)'\\),\", response.text)\n",
    "\n",
    "number = match.group(1)  # Extract the captured number\n"
   ]
  },
  {
   "cell_type": "code",
   "execution_count": null,
   "metadata": {},
   "outputs": [],
   "source": [
    "print(url)\n",
    "def _getBaseUrl(url):\n",
    "    index = url.find('/', url.find('//') + 2)\n",
    "    if index != -1:\n",
    "        return url[:index + 1]\n",
    "    return url\n",
    "\n",
    "_getBaseUrl(url)"
   ]
  },
  {
   "cell_type": "code",
   "execution_count": null,
   "metadata": {},
   "outputs": [],
   "source": [
    "def update_page_number(url, new_page_number):\n",
    "    _splitedData = url.split(\"/\")\n",
    "    _pageNameAndExtention = _splitedData[-1]\n",
    "    _name, _extention = _pageNameAndExtention.split(\".\")\n",
    "    _chapter, _pageNum = _name.split(\"-\")\n",
    "    _splitedData[-1] = f\"{_chapter}-{new_page_number:03}.{_extention}\"\n",
    "    _joinedData = \"/\".join(_splitedData)\n",
    "    return _joinedData\n",
    "\n",
    "\n",
    "\n",
    "\n",
    "\n",
    "url = \"https://official.lowee.us/manga/The-Gamer/S1/0001-001.png\"\n",
    "new_page_number = 6\n",
    "\n",
    "update_page_number(url, new_page_number)\n"
   ]
  },
  {
   "cell_type": "code",
   "execution_count": 1,
   "metadata": {},
   "outputs": [
    {
     "data": {
      "text/plain": [
       "{'ChapterID': 100010,\n",
       " 'ChapterNumber': '1',\n",
       " 'SeasonTag': 'S1',\n",
       " 'Season': 1,\n",
       " 'Link': 'https://weebcentral.com/chapters/01J76XYYTAVBJN1H0Y57AA9S0X',\n",
       " 'PagesNumber': 38,\n",
       " 'FirstPageLink': 'https://official.lowee.us/manga/The-Gamer/S1/0001-001.png'}"
      ]
     },
     "execution_count": 1,
     "metadata": {},
     "output_type": "execute_result"
    }
   ],
   "source": [
    "from API import SeriesDataGraper, ChaptersDataGraper\n",
    "from Structure import Series\n",
    "\n",
    "_series = Series()\n",
    "_series.DomainID = \"01J76XY9DYH4MH2HZG2PPF74A6\"\n",
    "\n",
    "Object = SeriesDataGraper(_series)\n",
    "\n",
    "Object.GrapChaptersInfo()\n",
    "\n",
    "url = Object.Series.Chapters[0].Link\n",
    "\n",
    "Object_2 = ChaptersDataGraper(chapter=Object.Series.Chapters[0])\n",
    "Object_2.GrapChapterInfromation()\n",
    "\n",
    "\n",
    "Object_2.Chapter.__dict__"
   ]
  },
  {
   "cell_type": "code",
   "execution_count": 8,
   "metadata": {},
   "outputs": [
    {
     "data": {
      "text/plain": [
       "'https://official.lowee.us/manga/The-Gamer/S1/0001-016.png'"
      ]
     },
     "execution_count": 8,
     "metadata": {},
     "output_type": "execute_result"
    }
   ],
   "source": [
    "Object_2.PageUrlFromNum(16)"
   ]
  }
 ],
 "metadata": {
  "kernelspec": {
   "display_name": "Python 3",
   "language": "python",
   "name": "python3"
  },
  "language_info": {
   "codemirror_mode": {
    "name": "ipython",
    "version": 3
   },
   "file_extension": ".py",
   "mimetype": "text/x-python",
   "name": "python",
   "nbconvert_exporter": "python",
   "pygments_lexer": "ipython3",
   "version": "3.12.4"
  }
 },
 "nbformat": 4,
 "nbformat_minor": 2
}
